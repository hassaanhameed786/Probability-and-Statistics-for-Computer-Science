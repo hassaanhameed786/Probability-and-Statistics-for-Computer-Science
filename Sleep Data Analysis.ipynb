{
 "cells": [
  {
   "cell_type": "markdown",
   "metadata": {},
   "source": [
    "# Sleep Data Analysis"
   ]
  },
  {
   "cell_type": "code",
   "execution_count": 110,
   "metadata": {},
   "outputs": [],
   "source": []
  },
  {
   "cell_type": "code",
   "execution_count": 114,
   "metadata": {},
   "outputs": [],
   "source": [
    "# Case study source: https://github.com/WillKoehrsen/ai-projects/blob/master/bayesian_inference/bayes_rule_applied.ipynb \n",
    "import numpy as np\n",
    "import pandas as pd\n",
    "from IPython.core.pylabtools import figsize\n",
    "\n",
    "figsize(6, 9)"
   ]
  },
  {
   "cell_type": "code",
   "execution_count": 115,
   "metadata": {},
   "outputs": [],
   "source": [
    "import matplotlib.pyplot as plt\n",
    "%matplotlib inline\n",
    "\n",
    "import seaborn as sns\n",
    "sns.set(color_codes=True)\n",
    "\n",
    "import datetime"
   ]
  },
  {
   "cell_type": "code",
   "execution_count": 116,
   "metadata": {},
   "outputs": [
    {
     "data": {
      "image/png": "[encoded data removed]",
      "text/plain": [
       "<Figure size 432x288 with 1 Axes>"
      ]
     },
     "metadata": {},
     "output_type": "display_data"
    }
   ],
   "source": [
    "\n",
    "# Data formatted in different notebook\n",
    "sleep_data = pd.read_csv('sleep_data.csv')\n",
    "\n",
    "# Labels for plotting\n",
    "sleep_labels = ['9:00', '9:30', '10:00', '10:30', '11:00', '11:30', '12:00']\n",
    "\n",
    "# Sleep data\n",
    "plt.scatter(sleep_data['time_offset'], sleep_data['indicator'], \n",
    "            s= 60, alpha=0.01, facecolor = 'b', edgecolors='b')\n",
    "plt.yticks([0, 1], ['Awake', 'Asleep']); plt.xlabel('PM Time'); \n",
    "plt.title('Falling Asleep Data', size = 18)\n",
    "plt.xticks([-60, -30, 0, 30, 60, 90, 120], sleep_labels);"
   ]
  },
  {
   "cell_type": "code",
   "execution_count": 117,
   "metadata": {},
   "outputs": [
    {
     "data": {
      "text/plain": [
       "<bound method NDFrame.head of                 Unnamed: 0  indicator  time_offset\n",
       "0      2017-12-01 21:00:00          0          -60\n",
       "1      2017-12-01 21:01:00          0          -59\n",
       "2      2017-12-01 21:02:00          0          -58\n",
       "3      2017-12-01 21:03:00          0          -57\n",
       "4      2017-12-01 21:04:00          0          -56\n",
       "...                    ...        ...          ...\n",
       "11335  2018-02-01 23:55:00          1          115\n",
       "11336  2018-02-01 23:56:00          1          116\n",
       "11337  2018-02-01 23:57:00          1          117\n",
       "11338  2018-02-01 23:58:00          1          118\n",
       "11339  2018-02-01 23:59:00          1          119\n",
       "\n",
       "[11340 rows x 3 columns]>"
      ]
     },
     "execution_count": 117,
     "metadata": {},
     "output_type": "execute_result"
    }
   ],
   "source": [
    "sleep_data.head"
   ]
  },
  {
   "cell_type": "code",
   "execution_count": 118,
   "metadata": {},
   "outputs": [],
   "source": [
    "# Sort the values by time offset\n",
    "sleep_data.sort_values('time_offset', inplace=True)\n",
    "\n",
    "# Time is the time offset\n",
    "time = np.array(sleep_data.loc[:, 'time_offset'])\n",
    "\n",
    "# Observations are the indicator\n",
    "sleep_obs = np.array(sleep_data.loc[:, 'indicator'])"
   ]
  },
  {
   "cell_type": "code",
   "execution_count": 119,
   "metadata": {},
   "outputs": [
    {
     "data": {
      "text/html": [
       "<div>\n",
       "<style scoped>\n",
       "    .dataframe tbody tr th:only-of-type {\n",
       "        vertical-align: middle;\n",
       "    }\n",
       "\n",
       "    .dataframe tbody tr th {\n",
       "        vertical-align: top;\n",
       "    }\n",
       "\n",
       "    .dataframe thead th {\n",
       "        text-align: right;\n",
       "    }\n",
       "</style>\n",
       "<table border=\"1\" class=\"dataframe\">\n",
       "  <thead>\n",
       "    <tr style=\"text-align: right;\">\n",
       "      <th></th>\n",
       "      <th>Unnamed: 0</th>\n",
       "      <th>indicator</th>\n",
       "      <th>time_offset</th>\n",
       "    </tr>\n",
       "  </thead>\n",
       "  <tbody>\n",
       "    <tr>\n",
       "      <th>8999</th>\n",
       "      <td>2018-01-19 23:59:00</td>\n",
       "      <td>1</td>\n",
       "      <td>119</td>\n",
       "    </tr>\n",
       "    <tr>\n",
       "      <th>2159</th>\n",
       "      <td>2017-12-12 23:59:00</td>\n",
       "      <td>1</td>\n",
       "      <td>119</td>\n",
       "    </tr>\n",
       "    <tr>\n",
       "      <th>9179</th>\n",
       "      <td>2018-01-20 23:59:00</td>\n",
       "      <td>1</td>\n",
       "      <td>119</td>\n",
       "    </tr>\n",
       "    <tr>\n",
       "      <th>5579</th>\n",
       "      <td>2017-12-31 23:59:00</td>\n",
       "      <td>1</td>\n",
       "      <td>119</td>\n",
       "    </tr>\n",
       "    <tr>\n",
       "      <th>11339</th>\n",
       "      <td>2018-02-01 23:59:00</td>\n",
       "      <td>1</td>\n",
       "      <td>119</td>\n",
       "    </tr>\n",
       "  </tbody>\n",
       "</table>\n",
       "</div>"
      ],
      "text/plain": [
       "                Unnamed: 0  indicator  time_offset\n",
       "8999   2018-01-19 23:59:00          1          119\n",
       "2159   2017-12-12 23:59:00          1          119\n",
       "9179   2018-01-20 23:59:00          1          119\n",
       "5579   2017-12-31 23:59:00          1          119\n",
       "11339  2018-02-01 23:59:00          1          119"
      ]
     },
     "execution_count": 119,
     "metadata": {},
     "output_type": "execute_result"
    }
   ],
   "source": [
    "sleep_data.tail()"
   ]
  },
  {
   "cell_type": "code",
   "execution_count": 120,
   "metadata": {},
   "outputs": [
    {
     "data": {
      "text/plain": [
       "(11340,)"
      ]
     },
     "execution_count": 120,
     "metadata": {},
     "output_type": "execute_result"
    }
   ],
   "source": [
    "time.shape"
   ]
  },
  {
   "cell_type": "code",
   "execution_count": 121,
   "metadata": {},
   "outputs": [
    {
     "data": {
      "text/plain": [
       "array([-60, -60, -60, ..., 119, 119, 119])"
      ]
     },
     "execution_count": 121,
     "metadata": {},
     "output_type": "execute_result"
    }
   ],
   "source": [
    "time "
   ]
  },
  {
   "cell_type": "code",
   "execution_count": 122,
   "metadata": {},
   "outputs": [
    {
     "data": {
      "text/plain": [
       "array([0, 0, 0, ..., 1, 1, 1])"
      ]
     },
     "execution_count": 122,
     "metadata": {},
     "output_type": "execute_result"
    }
   ],
   "source": [
    "sleep_obs"
   ]
  },
  {
   "cell_type": "code",
   "execution_count": 123,
   "metadata": {},
   "outputs": [
    {
     "data": {
      "text/plain": [
       "(11340,)"
      ]
     },
     "execution_count": 123,
     "metadata": {},
     "output_type": "execute_result"
    }
   ],
   "source": [
    "sleep_obs.shape  #it is same "
   ]
  },
  {
   "cell_type": "code",
   "execution_count": 124,
   "metadata": {},
   "outputs": [
    {
     "data": {
      "text/plain": [
       "array([0, 0, 0, 1, 0, 0, 0, 0, 1, 0, 0, 1, 0, 0, 0])"
      ]
     },
     "execution_count": 124,
     "metadata": {},
     "output_type": "execute_result"
    }
   ],
   "source": [
    "sleep_obs[3260:3275]"
   ]
  },
  {
   "cell_type": "code",
   "execution_count": 125,
   "metadata": {},
   "outputs": [
    {
     "data": {
      "text/html": [
       "<div>\n",
       "<style scoped>\n",
       "    .dataframe tbody tr th:only-of-type {\n",
       "        vertical-align: middle;\n",
       "    }\n",
       "\n",
       "    .dataframe tbody tr th {\n",
       "        vertical-align: top;\n",
       "    }\n",
       "\n",
       "    .dataframe thead th {\n",
       "        text-align: right;\n",
       "    }\n",
       "</style>\n",
       "<table border=\"1\" class=\"dataframe\">\n",
       "  <thead>\n",
       "    <tr style=\"text-align: right;\">\n",
       "      <th></th>\n",
       "      <th>Unnamed: 0</th>\n",
       "      <th>indicator</th>\n",
       "      <th>time_offset</th>\n",
       "    </tr>\n",
       "  </thead>\n",
       "  <tbody>\n",
       "    <tr>\n",
       "      <th>6900</th>\n",
       "      <td>2018-01-08 22:00:00</td>\n",
       "      <td>0</td>\n",
       "      <td>0</td>\n",
       "    </tr>\n",
       "    <tr>\n",
       "      <th>1680</th>\n",
       "      <td>2017-12-10 22:00:00</td>\n",
       "      <td>0</td>\n",
       "      <td>0</td>\n",
       "    </tr>\n",
       "    <tr>\n",
       "      <th>4740</th>\n",
       "      <td>2017-12-27 22:00:00</td>\n",
       "      <td>1</td>\n",
       "      <td>0</td>\n",
       "    </tr>\n",
       "    <tr>\n",
       "      <th>3300</th>\n",
       "      <td>2017-12-19 22:00:00</td>\n",
       "      <td>1</td>\n",
       "      <td>0</td>\n",
       "    </tr>\n",
       "    <tr>\n",
       "      <th>2940</th>\n",
       "      <td>2017-12-17 22:00:00</td>\n",
       "      <td>0</td>\n",
       "      <td>0</td>\n",
       "    </tr>\n",
       "    <tr>\n",
       "      <th>...</th>\n",
       "      <td>...</td>\n",
       "      <td>...</td>\n",
       "      <td>...</td>\n",
       "    </tr>\n",
       "    <tr>\n",
       "      <th>11040</th>\n",
       "      <td>2018-01-31 22:00:00</td>\n",
       "      <td>0</td>\n",
       "      <td>0</td>\n",
       "    </tr>\n",
       "    <tr>\n",
       "      <th>780</th>\n",
       "      <td>2017-12-05 22:00:00</td>\n",
       "      <td>1</td>\n",
       "      <td>0</td>\n",
       "    </tr>\n",
       "    <tr>\n",
       "      <th>1320</th>\n",
       "      <td>2017-12-08 22:00:00</td>\n",
       "      <td>1</td>\n",
       "      <td>0</td>\n",
       "    </tr>\n",
       "    <tr>\n",
       "      <th>9960</th>\n",
       "      <td>2018-01-25 22:00:00</td>\n",
       "      <td>1</td>\n",
       "      <td>0</td>\n",
       "    </tr>\n",
       "    <tr>\n",
       "      <th>9420</th>\n",
       "      <td>2018-01-22 22:00:00</td>\n",
       "      <td>0</td>\n",
       "      <td>0</td>\n",
       "    </tr>\n",
       "  </tbody>\n",
       "</table>\n",
       "<p>63 rows × 3 columns</p>\n",
       "</div>"
      ],
      "text/plain": [
       "                Unnamed: 0  indicator  time_offset\n",
       "6900   2018-01-08 22:00:00          0            0\n",
       "1680   2017-12-10 22:00:00          0            0\n",
       "4740   2017-12-27 22:00:00          1            0\n",
       "3300   2017-12-19 22:00:00          1            0\n",
       "2940   2017-12-17 22:00:00          0            0\n",
       "...                    ...        ...          ...\n",
       "11040  2018-01-31 22:00:00          0            0\n",
       "780    2017-12-05 22:00:00          1            0\n",
       "1320   2017-12-08 22:00:00          1            0\n",
       "9960   2018-01-25 22:00:00          1            0\n",
       "9420   2018-01-22 22:00:00          0            0\n",
       "\n",
       "[63 rows x 3 columns]"
      ]
     },
     "execution_count": 125,
     "metadata": {},
     "output_type": "execute_result"
    }
   ],
   "source": [
    "sleep_data.loc[sleep_data['time_offset'] == 0]"
   ]
  },
  {
   "cell_type": "markdown",
   "metadata": {},
   "source": [
    "# Calculating Probability at a Particular Time on frequencey based"
   ]
  },
  {
   "cell_type": "code",
   "execution_count": 126,
   "metadata": {},
   "outputs": [],
   "source": [
    "time_offset = 14 # time is  22:14"
   ]
  },
  {
   "cell_type": "code",
   "execution_count": 127,
   "metadata": {},
   "outputs": [],
   "source": [
    "## when the banda \n",
    "awake_vals = sleep_data.loc[(sleep_data['time_offset'] == time_offset) # select these vals from sleep_data.csv file\n",
    "                            & (sleep_data['indicator'] == 0)] "
   ]
  },
  {
   "cell_type": "code",
   "execution_count": 128,
   "metadata": {},
   "outputs": [],
   "source": [
    "sleep_vals = sleep_data.loc[(sleep_data['time_offset'] == time_offset) \n",
    "                            & (sleep_data['indicator'] == 1)]"
   ]
  },
  {
   "cell_type": "code",
   "execution_count": 129,
   "metadata": {},
   "outputs": [
    {
     "name": "stdout",
     "output_type": "stream",
     "text": [
      "29 34\n"
     ]
    }
   ],
   "source": [
    "print(len(sleep_vals), len(awake_vals))"
   ]
  },
  {
   "cell_type": "code",
   "execution_count": 130,
   "metadata": {},
   "outputs": [
    {
     "name": "stdout",
     "output_type": "stream",
     "text": [
      "0.4603174603174603\n"
     ]
    }
   ],
   "source": [
    "p_sleep_at_offset = len(sleep_vals) / (len(sleep_vals) + len(awake_vals))\n",
    "print(p_sleep_at_offset)"
   ]
  },
  {
   "cell_type": "markdown",
   "metadata": {},
   "source": [
    "# Calculating the Prior"
   ]
  },
  {
   "cell_type": "code",
   "execution_count": 131,
   "metadata": {},
   "outputs": [],
   "source": [
    "# Logistic Parameters from Markov Chain Monte Carlo Notebook - Don't have to understand how got this, for now\n",
    "alpha = 0.977400\n",
    "beta = -0.067270\n",
    "\n",
    "def calculate_prior(time, alpha, beta):\n",
    "    p = 1.0 / (1.0 + np.exp(np.dot(beta, time) + alpha))\n",
    "    return p\n",
    "\n",
    "# Done using some other method here but in essence, it's the same as above. This other method works even if you have little data. \n",
    "time_est = np.linspace(time.min()- 5, time.max() + 5, 1000)[:, None]\n",
    "\n",
    "# Probability at each time using mean values of alpha and beta\n",
    "sleep_est = calculate_prior(time_est, alpha, beta)"
   ]
  },
  {
   "cell_type": "code",
   "execution_count": 132,
   "metadata": {},
   "outputs": [
    {
     "data": {
      "image/png": "[encoded data removed]",
      "text/plain": [
       "<Figure size 432x288 with 1 Axes>"
      ]
     },
     "metadata": {},
     "output_type": "display_data"
    }
   ],
   "source": [
    "plt.plot(time_est, sleep_est, color = 'green', \n",
    "         lw=1, label=\"Model\")\n",
    "plt.scatter(time, sleep_obs, edgecolor = 'navy',\n",
    "            s=10, alpha=0.1, label='Observations')\n",
    "plt.title('Prior Probability Distribution for Sleep as Function of Time');\n",
    "\n",
    "plt.ylabel('Probability')\n",
    "plt.xlabel('PM Time');\n",
    "plt.legend()\n",
    "plt.xticks([-60, -30, 0, 30, 60, 90, 120], sleep_labels);\n"
   ]
  },
  {
   "cell_type": "code",
   "execution_count": 133,
   "metadata": {},
   "outputs": [
    {
     "name": "stdout",
     "output_type": "stream",
     "text": [
      "The probability of sleep increases to above 50% at 10:14 PM.\n",
      "\n",
      "9:30  PM probability of being asleep: 4.76%.\n",
      "10:00 PM probability of being asleep: 27.34%.\n",
      "10:30 PM probability of being asleep: 50.79%.\n"
     ]
    }
   ],
   "source": [
    "print('The probability of sleep increases to above 50% at 10:{} PM.\\n'.format(\n",
    "          int(time_est[np.where(sleep_est > 0.5)[0][0]][0])\n",
    "        )\n",
    "     )\n",
    "\n",
    "print('9:30  PM probability of being asleep: {:.2f}%.'.\n",
    "      format(100 * calculate_prior(-30, alpha, beta)))\n",
    "print('10:00 PM probability of being asleep: {:.2f}%.'.\n",
    "      format(100 * calculate_prior(0, alpha, beta)))\n",
    "print('10:30 PM probability of being asleep: {:.2f}%.'.\n",
    "      format(100 * calculate_prior(15, alpha, beta))) "
   ]
  },
  {
   "cell_type": "markdown",
   "metadata": {},
   "source": [
    "# Bayes Update on Distributions"
   ]
  },
  {
   "cell_type": "code",
   "execution_count": 134,
   "metadata": {},
   "outputs": [],
   "source": [
    "# likelihoods\n",
    "\n",
    "# P(light | sleep)\n",
    "light_sleep = 0.01\n",
    "\n",
    "# P(-light | sleep)\n",
    "nolight_sleep = 0.99\n",
    "\n",
    "# P(light | -sleep)\n",
    "light_nosleep = 0.8\n",
    "\n",
    "# P(-light | -sleep)\n",
    "nolight_nosleep = 0.2"
   ]
  },
  {
   "cell_type": "code",
   "execution_count": 135,
   "metadata": {},
   "outputs": [],
   "source": [
    " \n",
    "def update_probability(time_offset, light):\n",
    "    # Calculate the prior for the time\n",
    "    prior_probability = calculate_prior(time_offset, alpha, beta)\n",
    "    \n",
    "    # Account for evidence\n",
    "    if light == 0:\n",
    "        likelihood = nolight_sleep\n",
    "        non_likelihood = nolight_nosleep\n",
    "    elif light == 1:\n",
    "        likelihood = light_sleep\n",
    "        non_likelihood = light_nosleep\n",
    "        \n",
    "    # rewrite in terms of Bayes rule\n",
    "    numerator = likelihood * prior_probability\n",
    "    denominator = (likelihood * prior_probability) + (non_likelihood * (1 - prior_probability))\n",
    "    \n",
    "    conditional_probability = numerator / denominator\n",
    "    \n",
    "    \n",
    "    if type(time_offset) == int:\n",
    "        time = datetime.datetime(2017, 1, 1, 10, 0, 0)\n",
    "        new_time = str((time + datetime. timedelta(minutes = time_offset)).time())\n",
    "                       \n",
    "        print('Time: {} PM \\nLight is {}.'.format(new_time, \"ON\" if light == 1 else \"OFF\"))\n",
    "    \n",
    "        print('The prior probability of sleep:    {:.2f}%'.format(100 * prior_probability))\n",
    "        print('The updated probability of sleep:  {:.2f}%'.format(100 * conditional_probability))\n",
    "    \n",
    "    return conditional_probability"
   ]
  },
  {
   "cell_type": "code",
   "execution_count": 136,
   "metadata": {},
   "outputs": [
    {
     "name": "stdout",
     "output_type": "stream",
     "text": [
      "Time: 10:30:00 PM \n",
      "Light is ON.\n",
      "The prior probability of sleep:    73.90%\n",
      "The updated probability of sleep:  3.42%\n"
     ]
    }
   ],
   "source": [
    "result = update_probability(time_offset = 30, light = 1)"
   ]
  },
  {
   "cell_type": "code",
   "execution_count": 137,
   "metadata": {},
   "outputs": [
    {
     "name": "stdout",
     "output_type": "stream",
     "text": [
      "Time: 10:30:00 PM \n",
      "Light is OFF.\n",
      "The prior probability of sleep:    73.90%\n",
      "The updated probability of sleep:  93.34%\n"
     ]
    }
   ],
   "source": [
    "result = update_probability(time_offset = 30, light = 0)"
   ]
  },
  {
   "cell_type": "code",
   "execution_count": 138,
   "metadata": {},
   "outputs": [
    {
     "name": "stdout",
     "output_type": "stream",
     "text": [
      "Time: 09:30:00 PM \n",
      "Light is ON.\n",
      "The prior probability of sleep:    4.76%\n",
      "The updated probability of sleep:  0.06%\n"
     ]
    }
   ],
   "source": [
    "result = update_probability(time_offset = -30, light = 1)"
   ]
  },
  {
   "cell_type": "code",
   "execution_count": 139,
   "metadata": {},
   "outputs": [
    {
     "name": "stdout",
     "output_type": "stream",
     "text": [
      "Time: 09:30:00 PM \n",
      "Light is OFF.\n",
      "The prior probability of sleep:    4.76%\n",
      "The updated probability of sleep:  19.84%\n"
     ]
    }
   ],
   "source": [
    "result = update_probability(time_offset = -30, light = 0)"
   ]
  },
  {
   "cell_type": "markdown",
   "metadata": {},
   "source": [
    "# Updating All Priors Independenantly"
   ]
  },
  {
   "cell_type": "code",
   "execution_count": 140,
   "metadata": {},
   "outputs": [],
   "source": [
    "light_on_prob = update_probability(time_est, light = 1)\n",
    "light_off_prob = update_probability(time_est, light =  0)"
   ]
  },
  {
   "cell_type": "code",
   "execution_count": 141,
   "metadata": {},
   "outputs": [
    {
     "data": {
      "image/png": "[encoded data removed]",
      "text/plain": [
       "<Figure size 432x288 with 1 Axes>"
      ]
     },
     "metadata": {},
     "output_type": "display_data"
    }
   ],
   "source": [
    "plt.plot(time_est, sleep_est, color = 'black', \n",
    "         lw=3, linestyle = '--', label=\"Prior Probability\")\n",
    "plt.plot(time_est, light_on_prob, color = 'darkred',\n",
    "          lw = 1, label = 'Light On Probability')\n",
    "plt.plot(time_est, light_off_prob, color = 'darkgreen',\n",
    "           lw = 1, label = 'Light Off Probability')\n",
    "plt.scatter(time, sleep_obs, edgecolor = 'slateblue',\n",
    "            s=20, alpha=0.1, label='Observations')\n",
    "plt.title('Updated Probability Distribution for Sleep');\n",
    "plt.legend(loc=2)\n",
    "plt.ylabel('Probability')\n",
    "plt.xlabel('PM Time');\n",
    "plt.xticks([-60, -30, 0, 30, 60, 90, 120], sleep_labels);"
   ]
  },
  {
   "cell_type": "code",
   "execution_count": null,
   "metadata": {},
   "outputs": [],
   "source": []
  },
  {
   "cell_type": "code",
   "execution_count": null,
   "metadata": {},
   "outputs": [],
   "source": []
  }
 ],
 "metadata": {
  "kernelspec": {
   "display_name": "Python 3",
   "language": "python",
   "name": "python3"
  },
  "language_info": {
   "codemirror_mode": {
    "name": "ipython",
    "version": 3
   },
   "file_extension": ".py",
   "mimetype": "text/x-python",
   "name": "python",
   "nbconvert_exporter": "python",
   "pygments_lexer": "ipython3",
   "version": "3.8.5"
  }
 },
 "nbformat": 4,
 "nbformat_minor": 4
}
