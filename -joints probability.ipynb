{
 "cells": [
  {
   "cell_type": "code",
   "execution_count": 1,
   "metadata": {},
   "outputs": [],
   "source": [
    "j = {}"
   ]
  },
  {
   "cell_type": "code",
   "execution_count": 2,
   "metadata": {},
   "outputs": [],
   "source": [
    "total_counts = 0\n",
    "\n",
    "for d1 in range(1, 7):\n",
    "    for d2 in range(1, 7):\n",
    "       # print((d1 ,d2))\n",
    "        try:\n",
    "            X = max (d1, d2)\n",
    "            Y = d1 + d2 \n",
    "            j[(X, Y)] += 1\n",
    "        except KeyError:\n",
    "            j[(X, Y)] = 1\n",
    "            total_counts += 1"
   ]
  },
  {
   "cell_type": "code",
   "execution_count": 3,
   "metadata": {},
   "outputs": [
    {
     "data": {
      "text/plain": [
       "{(1, 2): 1,\n",
       " (2, 3): 2,\n",
       " (3, 4): 2,\n",
       " (4, 5): 2,\n",
       " (5, 6): 2,\n",
       " (6, 7): 2,\n",
       " (2, 4): 1,\n",
       " (3, 5): 2,\n",
       " (4, 6): 2,\n",
       " (5, 7): 2,\n",
       " (6, 8): 2,\n",
       " (3, 6): 1,\n",
       " (4, 7): 2,\n",
       " (5, 8): 2,\n",
       " (6, 9): 2,\n",
       " (4, 8): 1,\n",
       " (5, 9): 2,\n",
       " (6, 10): 2,\n",
       " (5, 10): 1,\n",
       " (6, 11): 2,\n",
       " (6, 12): 1}"
      ]
     },
     "execution_count": 3,
     "metadata": {},
     "output_type": "execute_result"
    }
   ],
   "source": [
    "j"
   ]
  },
  {
   "cell_type": "code",
   "execution_count": 4,
   "metadata": {},
   "outputs": [
    {
     "name": "stdout",
     "output_type": "stream",
     "text": [
      "X:  [1, 2, 3, 4, 5, 6]\n",
      "Y:  [1, 2, 3, 4, 5, 6, 7, 8, 9, 10, 11, 12]\n"
     ]
    }
   ],
   "source": [
    "x_vals=list(range(1,7))\n",
    "y_vals=list(range(1,13))\n",
    "\n",
    "\n",
    "print(\"X: \",x_vals)\n",
    "print(\"Y: \",y_vals)"
   ]
  },
  {
   "cell_type": "code",
   "execution_count": 9,
   "metadata": {},
   "outputs": [
    {
     "name": "stdout",
     "output_type": "stream",
     "text": [
      " - Y -  1\t2\t3\t4\t5\t6\t7\t8\t9\t10\t11\t12\t \n",
      "X \n",
      "\n",
      "1    - \t2    - \t3    - \t4    - \t5    - \t6    - \t"
     ]
    }
   ],
   "source": [
    "print(\" - Y -  \",end='')\n",
    "\n",
    "for y in y_vals:\n",
    "    print(y,end=\"\\t\")\n",
    "print(\" \")\n",
    "\n",
    "total=0  # sanity check \n",
    "print(\"X \\n\")\n",
    "\n",
    "for x in x_vals:\n",
    "    print(x,\"   - \",end=\"\\t\")\n",
    "    for y in y_vals:\n",
    "        try:\n",
    "            val = j\n",
    "\n",
    "\n"
   ]
  },
  {
   "cell_type": "code",
   "execution_count": null,
   "metadata": {},
   "outputs": [],
   "source": []
  },
  {
   "cell_type": "code",
   "execution_count": null,
   "metadata": {},
   "outputs": [],
   "source": []
  }
 ],
 "metadata": {
  "kernelspec": {
   "display_name": "Python 3",
   "language": "python",
   "name": "python3"
  },
  "language_info": {
   "codemirror_mode": {
    "name": "ipython",
    "version": 3
   },
   "file_extension": ".py",
   "mimetype": "text/x-python",
   "name": "python",
   "nbconvert_exporter": "python",
   "pygments_lexer": "ipython3",
   "version": "3.8.5"
  }
 },
 "nbformat": 4,
 "nbformat_minor": 4
}
